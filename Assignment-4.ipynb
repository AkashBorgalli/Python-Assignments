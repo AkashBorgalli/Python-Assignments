{
 "cells": [
  {
   "cell_type": "markdown",
   "metadata": {},
   "source": [
    "## Q. What exactly is []?\n",
    "## Answer: It is used to create list which contains many values seprated by commas.Simply a vriable holding different types of data."
   ]
  },
  {
   "cell_type": "code",
   "execution_count": 5,
   "metadata": {},
   "outputs": [
    {
     "data": {
      "text/plain": [
       "[2, 4, 6, 'Hello', 8, 10]"
      ]
     },
     "execution_count": 5,
     "metadata": {},
     "output_type": "execute_result"
    }
   ],
   "source": [
    "spam = [2,4,6,8,10]\n",
    "spam.insert(3,'Hello')\n",
    "spam"
   ]
  },
  {
   "cell_type": "code",
   "execution_count": 6,
   "metadata": {},
   "outputs": [
    {
     "data": {
      "text/plain": [
       "'d'"
      ]
     },
     "execution_count": 6,
     "metadata": {},
     "output_type": "execute_result"
    }
   ],
   "source": [
    "spam = ['a', 'b', 'c', 'd']\n",
    "## Here we got d because we are performing index operations which results to 3 which is nothing but d\n",
    "spam[int(int('3' * 2) / 11)]"
   ]
  },
  {
   "cell_type": "code",
   "execution_count": 9,
   "metadata": {},
   "outputs": [
    {
     "data": {
      "text/plain": [
       "3"
      ]
     },
     "execution_count": 9,
     "metadata": {},
     "output_type": "execute_result"
    }
   ],
   "source": [
    "## we get d as output because spam[3] = 'd'\n",
    "int(int('3' * 2)/11)"
   ]
  },
  {
   "cell_type": "code",
   "execution_count": 10,
   "metadata": {},
   "outputs": [
    {
     "data": {
      "text/plain": [
       "'d'"
      ]
     },
     "execution_count": 10,
     "metadata": {},
     "output_type": "execute_result"
    }
   ],
   "source": [
    "## backward indexing when moving from end to start \n",
    "spam[-1]"
   ]
  },
  {
   "cell_type": "code",
   "execution_count": 11,
   "metadata": {},
   "outputs": [
    {
     "data": {
      "text/plain": [
       "['a', 'b']"
      ]
     },
     "execution_count": 11,
     "metadata": {},
     "output_type": "execute_result"
    }
   ],
   "source": [
    "## here it picks value from 0 to 1 excluding 2.As we haven't used start index it bydefaults starts from 0\n",
    "spam[:2]"
   ]
  },
  {
   "cell_type": "code",
   "execution_count": 25,
   "metadata": {},
   "outputs": [
    {
     "data": {
      "text/plain": [
       "'cat'"
      ]
     },
     "execution_count": 25,
     "metadata": {},
     "output_type": "execute_result"
    }
   ],
   "source": [
    "bacon = [3.14, 'cat', 11, 'cat', True] \n",
    "bacon[1]"
   ]
  },
  {
   "cell_type": "code",
   "execution_count": 26,
   "metadata": {},
   "outputs": [
    {
     "data": {
      "text/plain": [
       "[3.14, 'cat', 11, 'cat', True, 99]"
      ]
     },
     "execution_count": 26,
     "metadata": {},
     "output_type": "execute_result"
    }
   ],
   "source": [
    "## append basically adds element at the end of the list\n",
    "bacon.append(99)\n",
    "bacon"
   ]
  },
  {
   "cell_type": "code",
   "execution_count": 27,
   "metadata": {},
   "outputs": [
    {
     "data": {
      "text/plain": [
       "[3.14, 11, 'cat', True, 99]"
      ]
     },
     "execution_count": 27,
     "metadata": {},
     "output_type": "execute_result"
    }
   ],
   "source": [
    "## It basically removes the first element from the list which matches the given value.\n",
    "bacon.remove('cat')\n",
    "bacon"
   ]
  },
  {
   "cell_type": "code",
   "execution_count": 30,
   "metadata": {},
   "outputs": [
    {
     "name": "stdout",
     "output_type": "stream",
     "text": [
      "After concating:  [1, 2, 3, 4, 5, 6, 7, 8]\n",
      "After Replicating:  [1, 2, 3, 4, 5, 6, 7, 8, 1, 2, 3, 4, 5, 6, 7, 8, 1, 2, 3, 4, 5, 6, 7, 8]\n"
     ]
    }
   ],
   "source": [
    "## List concatination means you do add two list in one list and operator used for concatinating is +\n",
    "a = [1,2,3,4]\n",
    "b = [5,6,7,8]\n",
    "z = a+b\n",
    "print(\"After concating: \",z)\n",
    "## List replication means you create duplicates of that list and operator used for it is *\n",
    "t = z*3\n",
    "print(\"After Replicating: \",t)"
   ]
  },
  {
   "cell_type": "markdown",
   "metadata": {},
   "source": [
    "## Difference between append and insert is that append adds element at the end of the List whereas, insert you can add element on specific position. "
   ]
  },
  {
   "cell_type": "code",
   "execution_count": 37,
   "metadata": {},
   "outputs": [
    {
     "name": "stdout",
     "output_type": "stream",
     "text": [
      "Deleted Element is:  Adarsh\n",
      "Updated List:  [2, 5]\n"
     ]
    }
   ],
   "source": [
    "## The two methods for removing items for the list are pop and remove\n",
    "g = ['Akash',2,5,'Adarsh']\n",
    "## pop removes the last element of the list returning the deleted value\n",
    "print(\"Deleted Element is: \",g.pop())\n",
    "## remove function is used to remove element on specific index\n",
    "g.remove('Akash')\n",
    "print('Updated List: ',g)"
   ]
  },
  {
   "cell_type": "markdown",
   "metadata": {},
   "source": [
    "## The Difference between Lists and Tuples is List are mutable which means we can modify elements in the List, whereas in tuple you cannot modify elements once created.\n",
    "\n"
   ]
  },
  {
   "cell_type": "code",
   "execution_count": 51,
   "metadata": {},
   "outputs": [
    {
     "data": {
      "text/plain": [
       "True"
      ]
     },
     "execution_count": 51,
     "metadata": {},
     "output_type": "execute_result"
    }
   ],
   "source": [
    "## list values and string values are identical as we can perform string operations on list.\n",
    "stuff = ['this', 'that', 'these', 'those']\n",
    "'these' in stuff"
   ]
  },
  {
   "cell_type": "code",
   "execution_count": 53,
   "metadata": {},
   "outputs": [
    {
     "data": {
      "text/plain": [
       "False"
      ]
     },
     "execution_count": 53,
     "metadata": {},
     "output_type": "execute_result"
    }
   ],
   "source": [
    "'buffalo' in stuff"
   ]
  },
  {
   "cell_type": "code",
   "execution_count": 76,
   "metadata": {},
   "outputs": [
    {
     "data": {
      "text/plain": [
       "tuple"
      ]
     },
     "execution_count": 76,
     "metadata": {},
     "output_type": "execute_result"
    }
   ],
   "source": [
    "tup = (43,)\n",
    "tup\n",
    "type(tup)"
   ]
  },
  {
   "cell_type": "code",
   "execution_count": 63,
   "metadata": {},
   "outputs": [
    {
     "name": "stdout",
     "output_type": "stream",
     "text": [
      "Before typecasting:  <class 'list'>\n",
      "After typecasting <class 'tuple'>\n"
     ]
    }
   ],
   "source": [
    "## we can make tuple to list and list to tuple by typecasting\n",
    "v = [1,2,\"Akash\"]\n",
    "print('Before typecasting: ',type(v))\n",
    "## Here we need to store the converted object into different variable because v is already list is assigned\n",
    "j=tuple(v)\n",
    "print('After typecasting: ',type(j))"
   ]
  },
  {
   "cell_type": "markdown",
   "metadata": {},
   "source": [
    "## Q.Variables that \"contain\" list values are not necessarily lists themselves. Instead, what do they contain?\n",
    "## Ans. Variables can hold nested list inside a list , single values of different data types.\n"
   ]
  },
  {
   "cell_type": "code",
   "execution_count": 66,
   "metadata": {},
   "outputs": [
    {
     "name": "stdout",
     "output_type": "stream",
     "text": [
      "The n list:  [1, 6, 89, 27]\n",
      "The m list:  [1, 6, 89, 27]\n",
      "After modification in n list:  [1, 6, 40, 27]\n",
      "The m list remains unchanged:  [1, 6, 89, 27]\n"
     ]
    }
   ],
   "source": [
    "## Shallow Copy basically creates a different memory location so even if you change values of list n it wont affect m list.\n",
    "n = [1,6,89,27]\n",
    "m = n.copy()\n",
    "print('The n list: ',n)\n",
    "print('The m list: ',m)\n",
    "n[2] = 40\n",
    "## here due to shallow copy we arent referencing it to same memory location\n",
    "print('After modification in n list: ',n)\n",
    "print('The m list remains unchanged: ',m)\n"
   ]
  },
  {
   "cell_type": "code",
   "execution_count": 70,
   "metadata": {},
   "outputs": [
    {
     "name": "stdout",
     "output_type": "stream",
     "text": [
      "After modification in q list:  [[99, 66, 44, 33], [55, 77, 88, 220, 11]]\n",
      "Modification of q list in w list:  [[99, 66, 44, 33], [55, 77, 88, 220, 11]]\n",
      "Items in q list remains same:  [[99, 66, 44, 33], [55, 77, 88, 220, 11]]\n",
      "Appended item change in w list:  [[99, 66, 44, 33], [55, 77, 88, 220, 11], [2, 4, 6, 8]]\n"
     ]
    }
   ],
   "source": [
    "## problem with shallow copy is it behaves differently when it has nested lists\n",
    "q = [[99,66,44,33],[55,77,88,22,11]]\n",
    "w = q.copy()\n",
    "## modifying q list\n",
    "## here the changed value gets copied in both the list because it is referring to same object inside the nested list\n",
    "## both variables are referring to the same object that is present inside the list\n",
    "## if you try to change the values in list then it reflects change in other list\n",
    "q[1][3] = 220\n",
    "print('After modification in q list: ',q)\n",
    "print('Modification of q list in w list: ',w)\n",
    "## if you try to insert something there would be no affect in q list \n",
    "w.append([2,4,6,8])\n",
    "print('Items in q list remains same: ',q)\n",
    "print('Appended item change in w list: ',w)"
   ]
  },
  {
   "cell_type": "code",
   "execution_count": 72,
   "metadata": {},
   "outputs": [
    {
     "name": "stdout",
     "output_type": "stream",
     "text": [
      "After modification in lst1 remains same:  [[4, 2, 'Akash'], [3, 6, 'Borgalli']]\n",
      "Modification in lst2 only gets changed:  [[4, 2, 'Akash'], [3, 250, 'Borgalli']]\n"
     ]
    }
   ],
   "source": [
    "## To overcome this problem we have deepcopy() function\n",
    "import copy\n",
    "lst1=[[4,2,'Akash'],[3,6,'Borgalli']]\n",
    "lst2=copy.deepcopy(lst1)\n",
    "lst2[1][1]=250\n",
    "print('After modification in lst1 remains same: ',lst1)\n",
    "print('Modification in lst2 only gets changed: ',lst2)"
   ]
  }
 ],
 "metadata": {
  "kernelspec": {
   "display_name": "Python 3",
   "language": "python",
   "name": "python3"
  },
  "language_info": {
   "codemirror_mode": {
    "name": "ipython",
    "version": 3
   },
   "file_extension": ".py",
   "mimetype": "text/x-python",
   "name": "python",
   "nbconvert_exporter": "python",
   "pygments_lexer": "ipython3",
   "version": "3.8.5"
  }
 },
 "nbformat": 4,
 "nbformat_minor": 4
}
