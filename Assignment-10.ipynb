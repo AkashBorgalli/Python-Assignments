{
 "cells": [
  {
   "cell_type": "markdown",
   "metadata": {},
   "source": [
    "# Shutil Module:\n",
    "### Shutil module in Python provides many functions of high-level operations on files and collections of files. It comes under Python’s standard utility modules. This module helps in automating process of copying and removal of files and directories."
   ]
  },
  {
   "cell_type": "markdown",
   "metadata": {},
   "source": [
    "## The shutil.copy() function copies a single file, whereas shutil.copytree() copies the entire folder with all its contents."
   ]
  },
  {
   "cell_type": "markdown",
   "metadata": {},
   "source": [
    "## The shutil.move() function is used for renaming files, as well as moving them."
   ]
  },
  {
   "cell_type": "markdown",
   "metadata": {},
   "source": [
    "## shutil functions will permanently delete files and folders whereas send2trash delete functions will move a file or folder to the recycle bin."
   ]
  },
  {
   "cell_type": "markdown",
   "metadata": {},
   "source": [
    "## The zipfile.ZipFile() function is same as open function; the first parameter is the filename, and the second parameter is the mode to open the .zip file like read, write, or append."
   ]
  },
  {
   "cell_type": "code",
   "execution_count": 12,
   "metadata": {},
   "outputs": [
    {
     "name": "stdout",
     "output_type": "stream",
     "text": [
      "location:  C:\\Users\\91706\\Desktop\\docs\\Akash Bertila LOR.jpg\n",
      "location:  C:\\Users\\91706\\Desktop\\docs\\Akash Wilson LOR.jpg\n"
     ]
    }
   ],
   "source": [
    "import os, shutil\n",
    "\n",
    "def moveFileJPG(folder): \n",
    "  for root, dirs, files in os.walk(folder): \n",
    "               for file in files: \n",
    "                   if file.endswith('.jpg'):\n",
    "                    image_path=os.path.join(root,file)  # get the path location of each jpeg image.\n",
    "                    print('location: ',image_path)\n",
    "                    shutil.copy(image_path, r'C:\\\\Users\\\\91706\\\\Documents\\\\cpy-jpg')\n",
    "\n",
    "\n",
    "moveFileJPG('C:\\\\Users\\\\91706\\\\Desktop\\\\docs')"
   ]
  }
 ],
 "metadata": {
  "kernelspec": {
   "display_name": "Python 3",
   "language": "python",
   "name": "python3"
  },
  "language_info": {
   "codemirror_mode": {
    "name": "ipython",
    "version": 3
   },
   "file_extension": ".py",
   "mimetype": "text/x-python",
   "name": "python",
   "nbconvert_exporter": "python",
   "pygments_lexer": "ipython3",
   "version": "3.8.5"
  }
 },
 "nbformat": 4,
 "nbformat_minor": 4
}
