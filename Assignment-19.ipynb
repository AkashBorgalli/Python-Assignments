{
 "cells": [
  {
   "cell_type": "code",
   "execution_count": 1,
   "metadata": {},
   "outputs": [],
   "source": [
    "class Thing:\n",
    "    pass"
   ]
  },
  {
   "cell_type": "code",
   "execution_count": 3,
   "metadata": {},
   "outputs": [
    {
     "name": "stdout",
     "output_type": "stream",
     "text": [
      "<class '__main__.Thing'>\n"
     ]
    }
   ],
   "source": [
    "print(Thing)"
   ]
  },
  {
   "cell_type": "code",
   "execution_count": 4,
   "metadata": {},
   "outputs": [
    {
     "data": {
      "text/plain": [
       "<__main__.Thing at 0x28ca0fbec40>"
      ]
     },
     "execution_count": 4,
     "metadata": {},
     "output_type": "execute_result"
    }
   ],
   "source": [
    "## object of class is example\n",
    "example=Thing()\n",
    "example"
   ]
  },
  {
   "cell_type": "code",
   "execution_count": 5,
   "metadata": {},
   "outputs": [
    {
     "name": "stdout",
     "output_type": "stream",
     "text": [
      "abc\n"
     ]
    }
   ],
   "source": [
    "class Thing2:\n",
    "    letters = 'abc'\n",
    "print(Thing2.letters)"
   ]
  },
  {
   "cell_type": "code",
   "execution_count": 9,
   "metadata": {},
   "outputs": [
    {
     "name": "stdout",
     "output_type": "stream",
     "text": [
      "xyz\n"
     ]
    }
   ],
   "source": [
    "## No you dont require an object to do this..you can specify in the class and do print\n",
    "class Thing3:\n",
    "    pass\n",
    "val = Thing3()\n",
    "val.letters = 'xyz'\n",
    "print(val.letters)"
   ]
  },
  {
   "cell_type": "code",
   "execution_count": 47,
   "metadata": {},
   "outputs": [],
   "source": [
    "class Element:\n",
    "      def __init__(self, name, symbol, number):\n",
    "        self.name = name\n",
    "        self.symbol = symbol\n",
    "        self.number = number\n",
    "     ## def dump(self):\n",
    "     ##   print(self.name, self.symbol, self.number)\n",
    "      def __str__(self):\n",
    "        return \"name={}, symbol={}, number={}\".format(self.name, self.symbol, self.number)\n",
    "## creating object of the class\n",
    "Element1 =  Element(\"Hydrogen\",\"H\",1)"
   ]
  },
  {
   "cell_type": "code",
   "execution_count": 42,
   "metadata": {},
   "outputs": [
    {
     "name": "stdout",
     "output_type": "stream",
     "text": [
      "The element name is  Hydrogen\n",
      "The element symbol is  H\n",
      "The element number is  1\n"
     ]
    }
   ],
   "source": [
    "print(\"The element name is \",Element1.name)\n",
    "print(\"The element symbol is \",Element1.symbol)\n",
    "print(\"The element number is \",Element1.number)"
   ]
  },
  {
   "cell_type": "code",
   "execution_count": 43,
   "metadata": {},
   "outputs": [],
   "source": [
    "element = {'name':'Hydrogen','symbol':'H','number':1}"
   ]
  },
  {
   "cell_type": "code",
   "execution_count": 31,
   "metadata": {},
   "outputs": [],
   "source": [
    "## passed as kwargs as kwargs should be given in key value pair\n",
    "Hydrogen = Element(**element)"
   ]
  },
  {
   "cell_type": "code",
   "execution_count": 32,
   "metadata": {},
   "outputs": [
    {
     "name": "stdout",
     "output_type": "stream",
     "text": [
      "Hydrogen\n",
      "1\n",
      "H\n"
     ]
    }
   ],
   "source": [
    "print(Hydrogen.name)\n",
    "print(Hydrogen.number)\n",
    "print(Hydrogen.symbol)"
   ]
  },
  {
   "cell_type": "code",
   "execution_count": 45,
   "metadata": {},
   "outputs": [],
   "source": [
    "## new object created to call dump function\n",
    "hydrogen= Element(\"Hydrogen\",\"H\",1)"
   ]
  },
  {
   "cell_type": "code",
   "execution_count": 46,
   "metadata": {},
   "outputs": [
    {
     "name": "stdout",
     "output_type": "stream",
     "text": [
      "Hydrogen H 1\n"
     ]
    }
   ],
   "source": [
    "hydrogen.dump()"
   ]
  },
  {
   "cell_type": "code",
   "execution_count": 48,
   "metadata": {},
   "outputs": [
    {
     "name": "stdout",
     "output_type": "stream",
     "text": [
      "name=Hydrogen, symbol=H, number=1\n"
     ]
    }
   ],
   "source": [
    "## new object created to call _str_ function\n",
    "hydrogenstr= Element(\"Hydrogen\",\"H\",1)\n",
    "print(hydrogenstr)"
   ]
  },
  {
   "cell_type": "code",
   "execution_count": 49,
   "metadata": {},
   "outputs": [
    {
     "name": "stdout",
     "output_type": "stream",
     "text": [
      "AkashBorgalli AB 6\n"
     ]
    }
   ],
   "source": [
    "class Element():\n",
    "    def __init__(self, name, symbol, number):\n",
    "        self.__name = name\n",
    "        self.__symbol = symbol\n",
    "        self.__number = number\n",
    "        \n",
    "    @property\n",
    "    def name(self):\n",
    "        return self.__name\n",
    "\n",
    "    @property\n",
    "    def symbol(self):\n",
    "        return self.__symbol\n",
    "    \n",
    "    @property\n",
    "    def number(self):\n",
    "        return self.__number\n",
    "    \n",
    "element = Element('AkashBorgalli', 'AB', 6)\n",
    "print(element.name, element.symbol, element.number)"
   ]
  },
  {
   "cell_type": "code",
   "execution_count": 50,
   "metadata": {},
   "outputs": [
    {
     "name": "stdout",
     "output_type": "stream",
     "text": [
      "Bear eats  berries\n",
      "Rabbit eats  clover\n",
      "Octothorpe eats  campers\n"
     ]
    }
   ],
   "source": [
    "class Bear():\n",
    "    def eats(self):\n",
    "        return 'berries'\n",
    "\n",
    "class Rabbit():\n",
    "    def eats(self):\n",
    "        return 'clover'\n",
    "    \n",
    "class Octothorpe():\n",
    "    def eats(self):\n",
    "        return 'campers'\n",
    "\n",
    "HerbBear = Bear()\n",
    "print(\"Bear eats \",HerbBear.eats())\n",
    "cunningRabbit = Rabbit()\n",
    "print(\"Rabbit eats \",cunningRabbit.eats())\n",
    "ancientOctothorpe = Octothorpe()\n",
    "print(\"Octothorpe eats \",ancientOctothorpe.eats())"
   ]
  },
  {
   "cell_type": "code",
   "execution_count": 51,
   "metadata": {},
   "outputs": [
    {
     "name": "stdout",
     "output_type": "stream",
     "text": [
      "disintegrate crush ring\n"
     ]
    }
   ],
   "source": [
    "class Laser():\n",
    "    def does(self):\n",
    "        return 'disintegrate'\n",
    "    \n",
    "class Claw():\n",
    "    def does(self):\n",
    "        return 'crush'\n",
    "    \n",
    "class SmartPhone():\n",
    "    def does(self):\n",
    "        return 'ring'\n",
    "    \n",
    "class Robot():\n",
    "    def __init__(self, laser, claw, smartphone):\n",
    "        self.laser = laser\n",
    "        self.claw = claw\n",
    "        self.smartphone = smartphone\n",
    "        \n",
    "    def does(self):\n",
    "        print(self.laser.does(), self.claw.does(), self.smartphone.does())\n",
    "        \n",
    "laser = Laser()\n",
    "claw = Claw()\n",
    "smartphone = SmartPhone()\n",
    "robot = Robot(laser, claw, smartphone)\n",
    "robot.does()"
   ]
  }
 ],
 "metadata": {
  "kernelspec": {
   "display_name": "Python 3",
   "language": "python",
   "name": "python3"
  },
  "language_info": {
   "codemirror_mode": {
    "name": "ipython",
    "version": 3
   },
   "file_extension": ".py",
   "mimetype": "text/x-python",
   "name": "python",
   "nbconvert_exporter": "python",
   "pygments_lexer": "ipython3",
   "version": "3.8.5"
  }
 },
 "nbformat": 4,
 "nbformat_minor": 4
}
