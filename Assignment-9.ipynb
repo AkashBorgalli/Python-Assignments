{
 "cells": [
  {
   "cell_type": "markdown",
   "metadata": {},
   "source": [
    "## Alternatively referred to as a partial path or non-absolute path, a relative path is a URL that only contains a portion of the full path."
   ]
  },
  {
   "cell_type": "markdown",
   "metadata": {},
   "source": [
    "## An absolute path is defined as specifying the location of a file or directory from the root directory(/). In other words,we can say that an absolute path is a complete path from start of actual file system from / directory."
   ]
  },
  {
   "cell_type": "markdown",
   "metadata": {},
   "source": [
    "## On Windows, what does Path('C:/Users') / 'Al' evaluate to?\n",
    "## Ans : It is invalid path"
   ]
  },
  {
   "cell_type": "markdown",
   "metadata": {},
   "source": [
    "## On Windows, what does 'C:/Users' / 'Al' evaluate to?\n",
    "## Answer: It is unable to find AI so it is giving this error ,The system cannot find the path specified."
   ]
  },
  {
   "cell_type": "code",
   "execution_count": 2,
   "metadata": {},
   "outputs": [
    {
     "data": {
      "application/javascript": [
       "\n",
       "        if (window._pyforest_update_imports_cell) { window._pyforest_update_imports_cell('import os'); }\n",
       "    "
      ],
      "text/plain": [
       "<IPython.core.display.Javascript object>"
      ]
     },
     "metadata": {},
     "output_type": "display_data"
    },
    {
     "data": {
      "text/plain": [
       "'C:\\\\Users\\\\91706\\\\Python Assignments'"
      ]
     },
     "execution_count": 2,
     "metadata": {},
     "output_type": "execute_result"
    }
   ],
   "source": [
    "## returns the current working directory\n",
    "os.getcwd()"
   ]
  },
  {
   "cell_type": "code",
   "execution_count": 3,
   "metadata": {},
   "outputs": [
    {
     "data": {
      "application/javascript": [
       "\n",
       "        if (window._pyforest_update_imports_cell) { window._pyforest_update_imports_cell('import os'); }\n",
       "    "
      ],
      "text/plain": [
       "<IPython.core.display.Javascript object>"
      ]
     },
     "metadata": {},
     "output_type": "display_data"
    }
   ],
   "source": [
    "## changes the current working directory\n",
    "os.chdir(r'C:\\\\Users\\\\91706\\\\Python-ML Tutorials')"
   ]
  },
  {
   "cell_type": "code",
   "execution_count": 4,
   "metadata": {},
   "outputs": [
    {
     "data": {
      "application/javascript": [
       "\n",
       "        if (window._pyforest_update_imports_cell) { window._pyforest_update_imports_cell('import os'); }\n",
       "    "
      ],
      "text/plain": [
       "<IPython.core.display.Javascript object>"
      ]
     },
     "metadata": {},
     "output_type": "display_data"
    },
    {
     "data": {
      "text/plain": [
       "'C:\\\\Users\\\\91706\\\\Python-ML Tutorials'"
      ]
     },
     "execution_count": 4,
     "metadata": {},
     "output_type": "execute_result"
    }
   ],
   "source": [
    "os.getcwd()"
   ]
  },
  {
   "cell_type": "markdown",
   "metadata": {},
   "source": [
    "## The . folder is the current folder, and .. is the parent folder"
   ]
  },
  {
   "cell_type": "markdown",
   "metadata": {},
   "source": [
    "## C:\\bacon\\eggs is the dir name, while spam.txt is the base name"
   ]
  },
  {
   "cell_type": "markdown",
   "metadata": {},
   "source": [
    "## The string 'r' for read mode, 'w' for write mode, and 'a' for append mode"
   ]
  },
  {
   "cell_type": "markdown",
   "metadata": {},
   "source": [
    "## If existing file is opened in write mode the it is erased and completely overwritten."
   ]
  },
  {
   "cell_type": "code",
   "execution_count": 10,
   "metadata": {},
   "outputs": [
    {
     "data": {
      "application/javascript": [
       "\n",
       "        if (window._pyforest_update_imports_cell) { window._pyforest_update_imports_cell('import os'); }\n",
       "    "
      ],
      "text/plain": [
       "<IPython.core.display.Javascript object>"
      ]
     },
     "metadata": {},
     "output_type": "display_data"
    }
   ],
   "source": [
    "os.chdir(r'C:\\\\Users\\\\91706\\\\Python Assignments')\n"
   ]
  },
  {
   "cell_type": "code",
   "execution_count": 12,
   "metadata": {},
   "outputs": [
    {
     "name": "stdout",
     "output_type": "stream",
     "text": [
      "b'Hi, I am Akash.\\nI work in Capgemini as MuleSoft Developer.\\nI live in Mumbai.\\n'\n",
      "Closed the file successfully!!\n"
     ]
    }
   ],
   "source": [
    "import os, sys\n",
    "# Open a file\n",
    "fd = os.open(\"Sample.txt\",os.O_RDWR)\n",
    "# Reading text using read function\n",
    "result = os.read(fd,150)\n",
    "print(result)\n",
    "# Close opened file\n",
    "os.close(fd)\n",
    "print(\"Closed the file successfully!!\")"
   ]
  },
  {
   "cell_type": "code",
   "execution_count": 17,
   "metadata": {},
   "outputs": [
    {
     "name": "stdout",
     "output_type": "stream",
     "text": [
      "['Hi, I am Akash.\\n', 'I work in Capgemini as MuleSoft Developer.\\n', 'I live in Mumbai.\\n']\n"
     ]
    }
   ],
   "source": [
    "## The readlines() method returns a list containing each line in the file as a list item.\n",
    "f = open(\"Sample.txt\", \"r\")\n",
    "print(f.readlines(150))"
   ]
  },
  {
   "cell_type": "markdown",
   "metadata": {},
   "source": [
    "## Difference between read() and readlines() is read return file contents as single string whereas, readlines returns a list where each string is a line from file contents"
   ]
  },
  {
   "cell_type": "markdown",
   "metadata": {},
   "source": [
    "## A shelf value resembles a dictionary value; it has keys and values, along with keys() and values() methods that work similarly to the dictionary methods of the same names."
   ]
  },
  {
   "cell_type": "code",
   "execution_count": 18,
   "metadata": {},
   "outputs": [],
   "source": [
    "# At first, we have to import the 'Shelve' module. \n",
    "import shelve \n",
    "  \n",
    "# In this step, we create a shelf file. \n",
    "shfile = shelve.open(\"shelf_file\") \n",
    "  \n",
    "# we create a data object which in this case is a book_list. \n",
    "my_movie_list =['Avengers', 'Venom', \n",
    "              'A_Quiet_Place'] \n",
    "  \n",
    "# we are assigning a dictionary key to the list  \n",
    "# which we will want to retrieve \n",
    "shfile['movie_list']= my_movie_list \n",
    "  \n",
    "# now, we simply close the shelf file. \n",
    "shfile.close() "
   ]
  },
  {
   "cell_type": "code",
   "execution_count": 19,
   "metadata": {},
   "outputs": [
    {
     "name": "stdout",
     "output_type": "stream",
     "text": [
      "['Avengers', 'Venom', 'A_Quiet_Place']\n"
     ]
    }
   ],
   "source": [
    "# In this step, we create a shelf file. \n",
    "var = shelve.open(\"shelf_file\") \n",
    "  \n",
    "# Now, this 'var' variable points to all the  \n",
    "# data objects in the file 'shelf_file'. \n",
    "print(var['movie_list']) \n",
    "  \n",
    "# now, we simply close the file 'shelf_file'. \n",
    "var.close() "
   ]
  }
 ],
 "metadata": {
  "kernelspec": {
   "display_name": "Python 3",
   "language": "python",
   "name": "python3"
  },
  "language_info": {
   "codemirror_mode": {
    "name": "ipython",
    "version": 3
   },
   "file_extension": ".py",
   "mimetype": "text/x-python",
   "name": "python",
   "nbconvert_exporter": "python",
   "pygments_lexer": "ipython3",
   "version": "3.8.5"
  }
 },
 "nbformat": 4,
 "nbformat_minor": 4
}
