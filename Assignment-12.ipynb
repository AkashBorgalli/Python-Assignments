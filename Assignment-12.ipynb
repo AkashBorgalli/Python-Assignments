{
 "cells": [
  {
   "cell_type": "markdown",
   "metadata": {},
   "source": [
    "## PyPDF2 MODULE:Reading text content from PDFs and crafting new PDFs from existing documents.PyPDF2 does not have a way to extract images, charts, or other media from PDF documents, but it can extract text and return it as a Python string."
   ]
  },
  {
   "cell_type": "code",
   "execution_count": 1,
   "metadata": {},
   "outputs": [
    {
     "data": {
      "text/plain": [
       "' A Simple PDF File  This is a small demonstration .pdf file -  just for use in the Virtual Mechanics tutorials. More text. And more  text. And more text. And more text. And more text.  And more text. And more text. And more text. And more text. And more  text. And more text. Boring, zzzzz. And more text. And more text. And  more text. And more text. And more text. And more text. And more text.  And more text. And more text.  And more text. And more text. And more text. And more text. And more  text. And more text. And more text. Even more. Continued on page 2 ...'"
      ]
     },
     "execution_count": 1,
     "metadata": {},
     "output_type": "execute_result"
    }
   ],
   "source": [
    "## we give file object executing open function.\n",
    "import PyPDF2 as pf\n",
    "pdfFileObj = open('Sample.pdf', 'rb')\n",
    "pdfReader = pf.PdfFileReader(pdfFileObj)\n",
    "page = pdfReader.getPage(0)\n",
    "page.extractText()"
   ]
  },
  {
   "cell_type": "markdown",
   "metadata": {},
   "source": [
    "## 'rb' for PdfFileReader()  and 'wb' for PdfFileWriter() "
   ]
  },
  {
   "cell_type": "code",
   "execution_count": 5,
   "metadata": {},
   "outputs": [],
   "source": [
    "## If i want to read 5th page i need to give 4 as a getPage function() as paging starts from 0\n",
    "pdfFileReader = pdfReader.getPage(0)"
   ]
  },
  {
   "cell_type": "code",
   "execution_count": 4,
   "metadata": {},
   "outputs": [
    {
     "data": {
      "text/plain": [
       "PyPDF2.pdf.PageObject"
      ]
     },
     "execution_count": 4,
     "metadata": {},
     "output_type": "execute_result"
    }
   ],
   "source": [
    "## It stores PageObject\n",
    "type(pdfFileReader)"
   ]
  },
  {
   "cell_type": "code",
   "execution_count": null,
   "metadata": {},
   "outputs": [],
   "source": [
    "## If the pdf is encrypted with a password swordfish.I need to call decrypt function giving swordfish as parameter\n",
    "decrypt('swordfish')"
   ]
  },
  {
   "cell_type": "markdown",
   "metadata": {},
   "source": [
    "## To rotate page i will use rotateClockwise() and rotateCounterClockwise() functions giving integer values as degrees in arguments"
   ]
  },
  {
   "cell_type": "markdown",
   "metadata": {},
   "source": [
    "## DOCX Module:"
   ]
  },
  {
   "cell_type": "markdown",
   "metadata": {},
   "source": [
    "### The difference between Run object and paragraph object is paragraph can contain many bold Italic sentences and run objects are continuous words within a paragraph."
   ]
  },
  {
   "cell_type": "code",
   "execution_count": 22,
   "metadata": {},
   "outputs": [
    {
     "data": {
      "text/plain": [
       "5"
      ]
     },
     "execution_count": 22,
     "metadata": {},
     "output_type": "execute_result"
    }
   ],
   "source": [
    "import docx\n",
    "doc = docx.Document('file-sample_100kB.docx')\n",
    "len(doc.paragraphs)  "
   ]
  },
  {
   "cell_type": "code",
   "execution_count": 29,
   "metadata": {},
   "outputs": [
    {
     "name": "stdout",
     "output_type": "stream",
     "text": [
      "This is Title:   DATASCIENCE \n",
      "This is 1st Paragraph:  My name is AkashBorgalli I live in Mumbai.\n",
      "This is 2nd Paragraph:  I am a MuleSoft Developer in Capgemini. \n"
     ]
    }
   ],
   "source": [
    "print(\"This is Title:  \",doc.paragraphs[0].text)\n",
    "print(\"This is 1st Paragraph: \",doc.paragraphs[3].text)\n",
    "print(\"This is 2nd Paragraph: \",doc.paragraphs[4].text)"
   ]
  },
  {
   "cell_type": "code",
   "execution_count": 24,
   "metadata": {},
   "outputs": [
    {
     "data": {
      "text/plain": [
       "9"
      ]
     },
     "execution_count": 24,
     "metadata": {},
     "output_type": "execute_result"
    }
   ],
   "source": [
    "## There would be 129 runs happening in paragph 1 \n",
    "len(doc.paragraphs[3].runs)"
   ]
  },
  {
   "cell_type": "code",
   "execution_count": 25,
   "metadata": {},
   "outputs": [
    {
     "data": {
      "text/plain": [
       "'My name'"
      ]
     },
     "execution_count": 25,
     "metadata": {},
     "output_type": "execute_result"
    }
   ],
   "source": [
    "##This word 'My name' is simple words\n",
    "doc.paragraphs[3].runs[0].text"
   ]
  },
  {
   "cell_type": "code",
   "execution_count": 28,
   "metadata": {},
   "outputs": [
    {
     "name": "stdout",
     "output_type": "stream",
     "text": [
      "is \n",
      "AkashBorgalli\n"
     ]
    }
   ],
   "source": [
    "print(doc.paragraphs[3].runs[2].text)\n",
    "print(doc.paragraphs[3].runs[3].text)"
   ]
  },
  {
   "cell_type": "markdown",
   "metadata": {},
   "source": [
    "## I will use doc.paragraphs[]"
   ]
  },
  {
   "cell_type": "markdown",
   "metadata": {},
   "source": [
    "## Run object has these bold,Italic and Outline variables"
   ]
  },
  {
   "cell_type": "markdown",
   "metadata": {},
   "source": [
    "- True makes the Run object bold\n",
    "- False makes the Run object not bold, no matter what the style’s bold setting is.\n",
    "- None will make the Run object just use the style’s bold setting."
   ]
  },
  {
   "cell_type": "markdown",
   "metadata": {},
   "source": [
    "## I will call docx.Document() function"
   ]
  },
  {
   "cell_type": "code",
   "execution_count": null,
   "metadata": {},
   "outputs": [],
   "source": [
    "## adding paragraph\n",
    "doc.add_paragraph('Hello there!')"
   ]
  },
  {
   "cell_type": "markdown",
   "metadata": {},
   "source": [
    "## The integers 0, 1, 2, 3, and 4 where 0 is considered with Biggest Heading and 4 as Smallest."
   ]
  }
 ],
 "metadata": {
  "kernelspec": {
   "display_name": "Python 3",
   "language": "python",
   "name": "python3"
  },
  "language_info": {
   "codemirror_mode": {
    "name": "ipython",
    "version": 3
   },
   "file_extension": ".py",
   "mimetype": "text/x-python",
   "name": "python",
   "nbconvert_exporter": "python",
   "pygments_lexer": "ipython3",
   "version": "3.8.5"
  }
 },
 "nbformat": 4,
 "nbformat_minor": 4
}
