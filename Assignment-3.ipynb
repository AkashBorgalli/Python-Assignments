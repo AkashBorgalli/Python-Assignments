{
 "cells": [
  {
   "cell_type": "markdown",
   "metadata": {},
   "source": [
    "## Benefits of using Python\n",
    "- Python is easy to learn \n",
    "- Its easy to implement, which speeds up the development of the project, which indirectly saves python developer's time\n",
    "- It is widely used in different domains\n",
    "- Pyhton has Jargon of packages and Libraries which can be used for Data Analysis,Ml Algoriths,IOT, Web Development etc."
   ]
  },
  {
   "cell_type": "code",
   "execution_count": 19,
   "metadata": {},
   "outputs": [],
   "source": [
    "## The code in the function runs when it is called, not specified\n",
    "def sum(a,b):\n",
    "    res = a+b\n",
    "    return res"
   ]
  },
  {
   "cell_type": "code",
   "execution_count": 23,
   "metadata": {},
   "outputs": [
    {
     "name": "stdout",
     "output_type": "stream",
     "text": [
      "Intital value returned by sum():  5\n",
      "Reusing the return value by performing substraction:  2\n"
     ]
    }
   ],
   "source": [
    "## here i have called that function\n",
    "t = sum(2,3)\n",
    "print(\"Intital value returned by sum(): \",t)\n",
    "## importance of return statement\n",
    "print(\"Reusing the return value by performing substraction: \",t-3)"
   ]
  },
  {
   "cell_type": "code",
   "execution_count": 3,
   "metadata": {},
   "outputs": [
    {
     "data": {
      "text/plain": [
       "'Akash'"
      ]
     },
     "execution_count": 3,
     "metadata": {},
     "output_type": "execute_result"
    }
   ],
   "source": [
    "## def causes a feature to be created followed by your function name.\n",
    "## This function can be reusable to reduce complexcity of code.\n",
    "def myName(name):\n",
    "    yourName = name\n",
    "    return yourName\n",
    "## calling the above function \n",
    "myName(\"Akash\")"
   ]
  },
  {
   "cell_type": "markdown",
   "metadata": {},
   "source": [
    "## The distinction between a function and a call to a function is that function holds some operation with data and call to a function holds data in it."
   ]
  },
  {
   "cell_type": "code",
   "execution_count": 8,
   "metadata": {},
   "outputs": [
    {
     "name": "stdout",
     "output_type": "stream",
     "text": [
      "global :  1\n",
      "Inside f() the value of variable a is :  1\n",
      "global :  1\n",
      "Inside g() the value of variable a is :  2\n",
      "global :  1\n",
      "Inside h() the value of variable a is :  3\n",
      "global :  3\n"
     ]
    }
   ],
   "source": [
    "## In this program I have demonstrated how we can access global variables,local variables and how to modify global variables \n",
    "a = 1\n",
    " \n",
    "# Uses global because there is no local 'a'\n",
    "\n",
    "def f():\n",
    "\n",
    "    print('Inside f() the value of variable a is : ', a)\n",
    " \n",
    "# Variable 'a' is redefined as a local\n",
    "\n",
    "def g():    \n",
    "\n",
    "    a = 2\n",
    "\n",
    "    print('Inside g() the value of variable a is : ', a)\n",
    " \n",
    "# Uses global keyword to modify global 'a'\n",
    "\n",
    "def h():    \n",
    "\n",
    "    global a\n",
    "\n",
    "    a = 3\n",
    "\n",
    "    print('Inside h() the value of variable a is : ', a)\n",
    " \n",
    "# Global scope\n",
    "\n",
    "print('global : ',a)\n",
    "f()\n",
    "\n",
    "print('global : ',a)\n",
    "g()\n",
    "\n",
    "print('global : ',a)\n",
    "h()\n",
    "\n",
    "print('global : ',a)"
   ]
  },
  {
   "cell_type": "markdown",
   "metadata": {},
   "source": [
    "## Q.When a function call returns, what happens to variables in the local scope?\n",
    "## Ans. If you observe previous code in function g() we have local variable a = 2.This basically creates new local variable a and assignes value as 2 because if a local variable has the same name as a global variable the local variable will always take precedence."
   ]
  },
  {
   "cell_type": "markdown",
   "metadata": {},
   "source": [
    "## Q.What is the concept of a return value? Is it possible to have a return value in an expression?\n",
    "## Ans. Yes it is possible to have a return value in an expression.But for that you need to store the return value in a variable and then use it.\n",
    "- Refer 1st block of code to get more clearity."
   ]
  },
  {
   "cell_type": "code",
   "execution_count": 24,
   "metadata": {},
   "outputs": [
    {
     "name": "stdout",
     "output_type": "stream",
     "text": [
      "5\n"
     ]
    },
    {
     "ename": "TypeError",
     "evalue": "unsupported operand type(s) for +: 'NoneType' and 'int'",
     "output_type": "error",
     "traceback": [
      "\u001b[1;31m---------------------------------------------------------------------------\u001b[0m",
      "\u001b[1;31mTypeError\u001b[0m                                 Traceback (most recent call last)",
      "\u001b[1;32m<ipython-input-24-554cba20108f>\u001b[0m in \u001b[0;36m<module>\u001b[1;34m\u001b[0m\n\u001b[0;32m      7\u001b[0m \u001b[0mv\u001b[0m\u001b[1;33m=\u001b[0m\u001b[0msub\u001b[0m\u001b[1;33m(\u001b[0m\u001b[1;36m10\u001b[0m\u001b[1;33m,\u001b[0m\u001b[1;36m5\u001b[0m\u001b[1;33m)\u001b[0m\u001b[1;33m\u001b[0m\u001b[1;33m\u001b[0m\u001b[0m\n\u001b[0;32m      8\u001b[0m \u001b[1;31m## now we will get error as function is not returning any value as we are only printing in function\u001b[0m\u001b[1;33m\u001b[0m\u001b[1;33m\u001b[0m\u001b[1;33m\u001b[0m\u001b[0m\n\u001b[1;32m----> 9\u001b[1;33m \u001b[0mprint\u001b[0m\u001b[1;33m(\u001b[0m\u001b[0mv\u001b[0m\u001b[1;33m+\u001b[0m\u001b[1;36m2\u001b[0m\u001b[1;33m)\u001b[0m\u001b[1;33m\u001b[0m\u001b[1;33m\u001b[0m\u001b[0m\n\u001b[0m",
      "\u001b[1;31mTypeError\u001b[0m: unsupported operand type(s) for +: 'NoneType' and 'int'"
     ]
    }
   ],
   "source": [
    "## Q.What is the return value of a call to a function that does not have a return statement?\n",
    "## Ans. You cannot reuse the value generated by that function\n",
    "\n",
    "def sub(a,b):\n",
    "    print(a-b)\n",
    "## calling the above function\n",
    "v=sub(10,5)\n",
    "## now we will get error as function is not returning any value as we are only printing in function\n",
    "print(v+2)"
   ]
  },
  {
   "cell_type": "code",
   "execution_count": 6,
   "metadata": {},
   "outputs": [
    {
     "data": {
      "text/plain": [
       "'My name is Akash Borgalli. I work as ML Enginner'"
      ]
     },
     "execution_count": 6,
     "metadata": {},
     "output_type": "execute_result"
    }
   ],
   "source": [
    "## To function variable refer to the global variable we will add global keyword inside the function\n",
    "\n",
    "designation = 'ML Enginner'\n",
    "def concat():\n",
    "    ## accessing global variable\n",
    "    global designation\n",
    "    return \"My name is Akash Borgalli. I work as {}\".format(designation)\n",
    "concat()\n"
   ]
  },
  {
   "cell_type": "code",
   "execution_count": 4,
   "metadata": {},
   "outputs": [
    {
     "data": {
      "text/plain": [
       "NoneType"
      ]
     },
     "execution_count": 4,
     "metadata": {},
     "output_type": "execute_result"
    }
   ],
   "source": [
    "## DataType of None is NonType \n",
    "x= None\n",
    "type(x)"
   ]
  },
  {
   "cell_type": "markdown",
   "metadata": {},
   "source": [
    "## The sentence import areallyourpetsnamederic does is that it imports areallyourpetsnamederic package in your notebook."
   ]
  },
  {
   "cell_type": "code",
   "execution_count": null,
   "metadata": {},
   "outputs": [],
   "source": [
    "## This is how i will import bacon() feature in a spam module\n",
    "import spam as sp\n",
    "sp.bacon()"
   ]
  },
  {
   "cell_type": "markdown",
   "metadata": {},
   "source": [
    "## I would do Exception Handling so that my program is avoided from crashing"
   ]
  },
  {
   "cell_type": "markdown",
   "metadata": {},
   "source": [
    "## The purpose of try block is you write code that can cause errors and the purpose of except block is if any error occurs in try block it will execute and try to find that exception defined in except block for printing custom error messages or perform some other task."
   ]
  },
  {
   "cell_type": "code",
   "execution_count": 5,
   "metadata": {},
   "outputs": [
    {
     "name": "stdout",
     "output_type": "stream",
     "text": [
      "Try to make DataType Similar\n"
     ]
    }
   ],
   "source": [
    "# Always write Exception at last as it is root class which handles all type of exception\n",
    "try:\n",
    "    a=1\n",
    "    b='Akash'\n",
    "    sum= a+b\n",
    "except NameError:\n",
    "    print(\"The user have not defined the variable\")\n",
    "except TypeError:\n",
    "    print(\"Try to make DataType Similar\")\n",
    "except Exception as ex:\n",
    "    print(ex)\n",
    "    "
   ]
  }
 ],
 "metadata": {
  "kernelspec": {
   "display_name": "Python 3",
   "language": "python",
   "name": "python3"
  },
  "language_info": {
   "codemirror_mode": {
    "name": "ipython",
    "version": 3
   },
   "file_extension": ".py",
   "mimetype": "text/x-python",
   "name": "python",
   "nbconvert_exporter": "python",
   "pygments_lexer": "ipython3",
   "version": "3.8.5"
  }
 },
 "nbformat": 4,
 "nbformat_minor": 4
}
