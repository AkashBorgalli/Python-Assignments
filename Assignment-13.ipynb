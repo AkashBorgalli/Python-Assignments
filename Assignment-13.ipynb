{
 "cells": [
  {
   "cell_type": "markdown",
   "metadata": {},
   "source": [
    "## CSV Vs EXCEL :\n",
    "   - CSV file can’t perform operations on data while Excel can perform operations on the data.\n",
    "   - CSV files are faster and also consumes less memory whereas Excel consumes more memory while importing data.\n",
    "   - CSV files can be opened with any text editor in windows while Excel files can't be opened with text editors."
   ]
  },
  {
   "cell_type": "markdown",
   "metadata": {},
   "source": [
    "## FileObject from open function"
   ]
  },
  {
   "cell_type": "markdown",
   "metadata": {},
   "source": [
    "## The mode for reader Object is read-binary ('rb') and for writer Object is write-binary ('wb')"
   ]
  },
  {
   "cell_type": "code",
   "execution_count": 2,
   "metadata": {},
   "outputs": [],
   "source": [
    "import csv\n",
    "with open('movies.csv', 'w', newline='') as file:\n",
    "    writer = csv.writer(file)\n",
    "## writerow function takes a list argument and writes it to a CSV file\n",
    "    writer.writerow([\"SrNum\", \"Movie\", \"Genre\"])\n",
    "    writer.writerow([1, \"Venom\", \"Sci-Fi\"])\n",
    "    writer.writerow([2, \"A Quiet Place\", \"Horror\"])"
   ]
  },
  {
   "cell_type": "code",
   "execution_count": 3,
   "metadata": {},
   "outputs": [
    {
     "name": "stdout",
     "output_type": "stream",
     "text": [
      "['SrNum', 'Movie', 'Genre']\n",
      "['1', 'Venom', 'Sci-Fi']\n",
      "['2', 'A Quiet Place', 'Horror']\n"
     ]
    }
   ],
   "source": [
    "## to check contents of csv\n",
    "with open('movies.csv', 'r') as file:\n",
    "    reader = csv.reader(file)\n",
    "    for row in reader:\n",
    "        print(row)"
   ]
  },
  {
   "cell_type": "markdown",
   "metadata": {},
   "source": [
    "## The delimiter argument used to separate data bydefault comma(,) in it. A lineterminator is a string used to terminate lines produced by writer objects. The default value is \\r\\n. You can change its value by passing any string as a lineterminator parameter."
   ]
  },
  {
   "cell_type": "code",
   "execution_count": 9,
   "metadata": {},
   "outputs": [
    {
     "name": "stdout",
     "output_type": "stream",
     "text": [
      "{\"name\": \"John\", \"age\": 31, \"Salary\": 25000}\n"
     ]
    },
    {
     "data": {
      "text/plain": [
       "str"
      ]
     },
     "execution_count": 9,
     "metadata": {},
     "output_type": "execute_result"
    }
   ],
   "source": [
    "import json \n",
    "  \n",
    "# {key:value mapping} ## Its type is dictonary \n",
    "a ={\"name\":\"John\", \n",
    "   \"age\":31, \n",
    "    \"Salary\":25000}  \n",
    "# conversion to JSON done by dumps() function \n",
    "b = json.dumps(a) \n",
    "print(b) \n",
    "type(b)"
   ]
  },
  {
   "cell_type": "code",
   "execution_count": 5,
   "metadata": {},
   "outputs": [],
   "source": [
    "a ={\"name\":\"John\", \n",
    "   \"age\":31, \n",
    "    \"Salary\":25000} "
   ]
  },
  {
   "cell_type": "code",
   "execution_count": 6,
   "metadata": {},
   "outputs": [
    {
     "data": {
      "text/plain": [
       "dict"
      ]
     },
     "execution_count": 6,
     "metadata": {},
     "output_type": "execute_result"
    }
   ],
   "source": [
    "type(a)"
   ]
  },
  {
   "cell_type": "code",
   "execution_count": 10,
   "metadata": {},
   "outputs": [],
   "source": [
    "json_var =\"\"\" \n",
    "{ \n",
    "    \"Employee\": { \n",
    "        \"name\": \"Akash Borgalli\", \n",
    "        \"Languages_spoken\": [ \n",
    "            { \n",
    "                \"names\": [\"Hindi\", \"English\", \"Kanada\", \"Marathi\"] \n",
    "            } \n",
    "        ] \n",
    "    } \n",
    "} \n",
    "\"\"\"\n",
    "## json loads() is a function that takes a string of JSON data and returns a dictionary data structure\n",
    "var = json.loads(json_var) "
   ]
  },
  {
   "cell_type": "code",
   "execution_count": 16,
   "metadata": {},
   "outputs": [
    {
     "name": "stdout",
     "output_type": "stream",
     "text": [
      "<class 'str'>\n",
      "{'Employee': {'name': 'Akash Borgalli', 'Languages_spoken': [{'names': ['Hindi', 'English', 'Kanada', 'Marathi']}]}}\n"
     ]
    },
    {
     "data": {
      "text/plain": [
       "dict"
      ]
     },
     "execution_count": 16,
     "metadata": {},
     "output_type": "execute_result"
    }
   ],
   "source": [
    "print(type(json_var))\n",
    "print(var)\n",
    "type(var)"
   ]
  },
  {
   "cell_type": "code",
   "execution_count": 15,
   "metadata": {},
   "outputs": [
    {
     "data": {
      "text/plain": [
       "str"
      ]
     },
     "execution_count": 15,
     "metadata": {},
     "output_type": "execute_result"
    }
   ],
   "source": [
    "type(json_var)"
   ]
  }
 ],
 "metadata": {
  "kernelspec": {
   "display_name": "Python 3",
   "language": "python",
   "name": "python3"
  },
  "language_info": {
   "codemirror_mode": {
    "name": "ipython",
    "version": 3
   },
   "file_extension": ".py",
   "mimetype": "text/x-python",
   "name": "python",
   "nbconvert_exporter": "python",
   "pygments_lexer": "ipython3",
   "version": "3.8.5"
  }
 },
 "nbformat": 4,
 "nbformat_minor": 4
}
